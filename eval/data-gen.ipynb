{
 "cells": [
  {
   "cell_type": "markdown",
   "metadata": {},
   "source": [
    "# Data Generation for Evaluation\n",
    "\n",
    "This notebook contains code for generating test questions using AI.\n",
    "We use an LLM to create realistic questions based on FAQ content."
   ]
  },
  {
   "cell_type": "markdown",
   "metadata": {},
   "source": [
    "## Setup"
   ]
  },
  {
   "cell_type": "code",
   "execution_count": 1,
   "metadata": {},
   "outputs": [
    {
     "name": "stdout",
     "output_type": "stream",
     "text": [
      "Requirement already satisfied: pydantic-ai in /mnt/data/Github/7-Day-AI-Agents-Email-Crash-Course/.venv/lib/python3.13/site-packages (1.0.15)\n",
      "Requirement already satisfied: pydantic-ai-slim==1.0.15 in /mnt/data/Github/7-Day-AI-Agents-Email-Crash-Course/.venv/lib/python3.13/site-packages (from pydantic-ai-slim[ag-ui,anthropic,bedrock,cli,cohere,evals,google,groq,huggingface,logfire,mcp,mistral,openai,retries,temporal,vertexai]==1.0.15->pydantic-ai) (1.0.15)\n",
      "Requirement already satisfied: genai-prices>=0.0.28 in /mnt/data/Github/7-Day-AI-Agents-Email-Crash-Course/.venv/lib/python3.13/site-packages (from pydantic-ai-slim==1.0.15->pydantic-ai-slim[ag-ui,anthropic,bedrock,cli,cohere,evals,google,groq,huggingface,logfire,mcp,mistral,openai,retries,temporal,vertexai]==1.0.15->pydantic-ai) (0.0.29)\n",
      "Requirement already satisfied: griffe>=1.3.2 in /mnt/data/Github/7-Day-AI-Agents-Email-Crash-Course/.venv/lib/python3.13/site-packages (from pydantic-ai-slim==1.0.15->pydantic-ai-slim[ag-ui,anthropic,bedrock,cli,cohere,evals,google,groq,huggingface,logfire,mcp,mistral,openai,retries,temporal,vertexai]==1.0.15->pydantic-ai) (1.14.0)\n",
      "Requirement already satisfied: httpx>=0.27 in /mnt/data/Github/7-Day-AI-Agents-Email-Crash-Course/.venv/lib/python3.13/site-packages (from pydantic-ai-slim==1.0.15->pydantic-ai-slim[ag-ui,anthropic,bedrock,cli,cohere,evals,google,groq,huggingface,logfire,mcp,mistral,openai,retries,temporal,vertexai]==1.0.15->pydantic-ai) (0.28.1)\n",
      "Requirement already satisfied: opentelemetry-api>=1.28.0 in /mnt/data/Github/7-Day-AI-Agents-Email-Crash-Course/.venv/lib/python3.13/site-packages (from pydantic-ai-slim==1.0.15->pydantic-ai-slim[ag-ui,anthropic,bedrock,cli,cohere,evals,google,groq,huggingface,logfire,mcp,mistral,openai,retries,temporal,vertexai]==1.0.15->pydantic-ai) (1.37.0)\n",
      "Requirement already satisfied: pydantic-graph==1.0.15 in /mnt/data/Github/7-Day-AI-Agents-Email-Crash-Course/.venv/lib/python3.13/site-packages (from pydantic-ai-slim==1.0.15->pydantic-ai-slim[ag-ui,anthropic,bedrock,cli,cohere,evals,google,groq,huggingface,logfire,mcp,mistral,openai,retries,temporal,vertexai]==1.0.15->pydantic-ai) (1.0.15)\n",
      "Requirement already satisfied: pydantic>=2.10 in /mnt/data/Github/7-Day-AI-Agents-Email-Crash-Course/.venv/lib/python3.13/site-packages (from pydantic-ai-slim==1.0.15->pydantic-ai-slim[ag-ui,anthropic,bedrock,cli,cohere,evals,google,groq,huggingface,logfire,mcp,mistral,openai,retries,temporal,vertexai]==1.0.15->pydantic-ai) (2.11.9)\n",
      "Requirement already satisfied: typing-inspection>=0.4.0 in /mnt/data/Github/7-Day-AI-Agents-Email-Crash-Course/.venv/lib/python3.13/site-packages (from pydantic-ai-slim==1.0.15->pydantic-ai-slim[ag-ui,anthropic,bedrock,cli,cohere,evals,google,groq,huggingface,logfire,mcp,mistral,openai,retries,temporal,vertexai]==1.0.15->pydantic-ai) (0.4.2)\n",
      "Requirement already satisfied: ag-ui-protocol>=0.1.8 in /mnt/data/Github/7-Day-AI-Agents-Email-Crash-Course/.venv/lib/python3.13/site-packages (from pydantic-ai-slim[ag-ui,anthropic,bedrock,cli,cohere,evals,google,groq,huggingface,logfire,mcp,mistral,openai,retries,temporal,vertexai]==1.0.15->pydantic-ai) (0.1.9)\n",
      "Requirement already satisfied: starlette>=0.45.3 in /mnt/data/Github/7-Day-AI-Agents-Email-Crash-Course/.venv/lib/python3.13/site-packages (from pydantic-ai-slim[ag-ui,anthropic,bedrock,cli,cohere,evals,google,groq,huggingface,logfire,mcp,mistral,openai,retries,temporal,vertexai]==1.0.15->pydantic-ai) (0.48.0)\n",
      "Requirement already satisfied: anthropic>=0.69.0 in /mnt/data/Github/7-Day-AI-Agents-Email-Crash-Course/.venv/lib/python3.13/site-packages (from pydantic-ai-slim[ag-ui,anthropic,bedrock,cli,cohere,evals,google,groq,huggingface,logfire,mcp,mistral,openai,retries,temporal,vertexai]==1.0.15->pydantic-ai) (0.69.0)\n",
      "Requirement already satisfied: boto3>=1.39.0 in /mnt/data/Github/7-Day-AI-Agents-Email-Crash-Course/.venv/lib/python3.13/site-packages (from pydantic-ai-slim[ag-ui,anthropic,bedrock,cli,cohere,evals,google,groq,huggingface,logfire,mcp,mistral,openai,retries,temporal,vertexai]==1.0.15->pydantic-ai) (1.40.43)\n",
      "Requirement already satisfied: argcomplete>=3.5.0 in /mnt/data/Github/7-Day-AI-Agents-Email-Crash-Course/.venv/lib/python3.13/site-packages (from pydantic-ai-slim[ag-ui,anthropic,bedrock,cli,cohere,evals,google,groq,huggingface,logfire,mcp,mistral,openai,retries,temporal,vertexai]==1.0.15->pydantic-ai) (3.6.2)\n",
      "Requirement already satisfied: prompt-toolkit>=3 in /mnt/data/Github/7-Day-AI-Agents-Email-Crash-Course/.venv/lib/python3.13/site-packages (from pydantic-ai-slim[ag-ui,anthropic,bedrock,cli,cohere,evals,google,groq,huggingface,logfire,mcp,mistral,openai,retries,temporal,vertexai]==1.0.15->pydantic-ai) (3.0.52)\n",
      "Requirement already satisfied: pyperclip>=1.9.0 in /mnt/data/Github/7-Day-AI-Agents-Email-Crash-Course/.venv/lib/python3.13/site-packages (from pydantic-ai-slim[ag-ui,anthropic,bedrock,cli,cohere,evals,google,groq,huggingface,logfire,mcp,mistral,openai,retries,temporal,vertexai]==1.0.15->pydantic-ai) (1.11.0)\n",
      "Requirement already satisfied: rich>=13 in /mnt/data/Github/7-Day-AI-Agents-Email-Crash-Course/.venv/lib/python3.13/site-packages (from pydantic-ai-slim[ag-ui,anthropic,bedrock,cli,cohere,evals,google,groq,huggingface,logfire,mcp,mistral,openai,retries,temporal,vertexai]==1.0.15->pydantic-ai) (14.1.0)\n",
      "Requirement already satisfied: cohere>=5.18.0 in /mnt/data/Github/7-Day-AI-Agents-Email-Crash-Course/.venv/lib/python3.13/site-packages (from pydantic-ai-slim[ag-ui,anthropic,bedrock,cli,cohere,evals,google,groq,huggingface,logfire,mcp,mistral,openai,retries,temporal,vertexai]==1.0.15->pydantic-ai) (5.18.0)\n",
      "Requirement already satisfied: pydantic-evals==1.0.15 in /mnt/data/Github/7-Day-AI-Agents-Email-Crash-Course/.venv/lib/python3.13/site-packages (from pydantic-ai-slim[ag-ui,anthropic,bedrock,cli,cohere,evals,google,groq,huggingface,logfire,mcp,mistral,openai,retries,temporal,vertexai]==1.0.15->pydantic-ai) (1.0.15)\n",
      "Requirement already satisfied: google-genai>=1.31.0 in /mnt/data/Github/7-Day-AI-Agents-Email-Crash-Course/.venv/lib/python3.13/site-packages (from pydantic-ai-slim[ag-ui,anthropic,bedrock,cli,cohere,evals,google,groq,huggingface,logfire,mcp,mistral,openai,retries,temporal,vertexai]==1.0.15->pydantic-ai) (1.39.1)\n",
      "Requirement already satisfied: groq>=0.25.0 in /mnt/data/Github/7-Day-AI-Agents-Email-Crash-Course/.venv/lib/python3.13/site-packages (from pydantic-ai-slim[ag-ui,anthropic,bedrock,cli,cohere,evals,google,groq,huggingface,logfire,mcp,mistral,openai,retries,temporal,vertexai]==1.0.15->pydantic-ai) (0.32.0)\n",
      "Requirement already satisfied: huggingface-hub>=0.33.5 in /mnt/data/Github/7-Day-AI-Agents-Email-Crash-Course/.venv/lib/python3.13/site-packages (from huggingface-hub[inference]>=0.33.5; extra == \"huggingface\"->pydantic-ai-slim[ag-ui,anthropic,bedrock,cli,cohere,evals,google,groq,huggingface,logfire,mcp,mistral,openai,retries,temporal,vertexai]==1.0.15->pydantic-ai) (0.35.3)\n",
      "Requirement already satisfied: logfire>=3.14.1 in /mnt/data/Github/7-Day-AI-Agents-Email-Crash-Course/.venv/lib/python3.13/site-packages (from logfire[httpx]>=3.14.1; extra == \"logfire\"->pydantic-ai-slim[ag-ui,anthropic,bedrock,cli,cohere,evals,google,groq,huggingface,logfire,mcp,mistral,openai,retries,temporal,vertexai]==1.0.15->pydantic-ai) (4.10.0)\n",
      "Requirement already satisfied: mcp>=1.12.3 in /mnt/data/Github/7-Day-AI-Agents-Email-Crash-Course/.venv/lib/python3.13/site-packages (from pydantic-ai-slim[ag-ui,anthropic,bedrock,cli,cohere,evals,google,groq,huggingface,logfire,mcp,mistral,openai,retries,temporal,vertexai]==1.0.15->pydantic-ai) (1.15.0)\n",
      "Requirement already satisfied: mistralai>=1.9.10 in /mnt/data/Github/7-Day-AI-Agents-Email-Crash-Course/.venv/lib/python3.13/site-packages (from pydantic-ai-slim[ag-ui,anthropic,bedrock,cli,cohere,evals,google,groq,huggingface,logfire,mcp,mistral,openai,retries,temporal,vertexai]==1.0.15->pydantic-ai) (1.9.10)\n",
      "Requirement already satisfied: openai>=1.107.2 in /mnt/data/Github/7-Day-AI-Agents-Email-Crash-Course/.venv/lib/python3.13/site-packages (from pydantic-ai-slim[ag-ui,anthropic,bedrock,cli,cohere,evals,google,groq,huggingface,logfire,mcp,mistral,openai,retries,temporal,vertexai]==1.0.15->pydantic-ai) (2.0.0)\n",
      "Requirement already satisfied: tenacity>=8.2.3 in /mnt/data/Github/7-Day-AI-Agents-Email-Crash-Course/.venv/lib/python3.13/site-packages (from pydantic-ai-slim[ag-ui,anthropic,bedrock,cli,cohere,evals,google,groq,huggingface,logfire,mcp,mistral,openai,retries,temporal,vertexai]==1.0.15->pydantic-ai) (9.1.2)\n",
      "Requirement already satisfied: temporalio==1.18.0 in /mnt/data/Github/7-Day-AI-Agents-Email-Crash-Course/.venv/lib/python3.13/site-packages (from pydantic-ai-slim[ag-ui,anthropic,bedrock,cli,cohere,evals,google,groq,huggingface,logfire,mcp,mistral,openai,retries,temporal,vertexai]==1.0.15->pydantic-ai) (1.18.0)\n",
      "Requirement already satisfied: google-auth>=2.36.0 in /mnt/data/Github/7-Day-AI-Agents-Email-Crash-Course/.venv/lib/python3.13/site-packages (from pydantic-ai-slim[ag-ui,anthropic,bedrock,cli,cohere,evals,google,groq,huggingface,logfire,mcp,mistral,openai,retries,temporal,vertexai]==1.0.15->pydantic-ai) (2.41.1)\n",
      "Requirement already satisfied: requests>=2.32.2 in /mnt/data/Github/7-Day-AI-Agents-Email-Crash-Course/.venv/lib/python3.13/site-packages (from pydantic-ai-slim[ag-ui,anthropic,bedrock,cli,cohere,evals,google,groq,huggingface,logfire,mcp,mistral,openai,retries,temporal,vertexai]==1.0.15->pydantic-ai) (2.32.5)\n",
      "Requirement already satisfied: anyio>=0 in /mnt/data/Github/7-Day-AI-Agents-Email-Crash-Course/.venv/lib/python3.13/site-packages (from pydantic-evals==1.0.15->pydantic-ai-slim[ag-ui,anthropic,bedrock,cli,cohere,evals,google,groq,huggingface,logfire,mcp,mistral,openai,retries,temporal,vertexai]==1.0.15->pydantic-ai) (4.11.0)\n",
      "Requirement already satisfied: logfire-api>=3.14.1 in /mnt/data/Github/7-Day-AI-Agents-Email-Crash-Course/.venv/lib/python3.13/site-packages (from pydantic-evals==1.0.15->pydantic-ai-slim[ag-ui,anthropic,bedrock,cli,cohere,evals,google,groq,huggingface,logfire,mcp,mistral,openai,retries,temporal,vertexai]==1.0.15->pydantic-ai) (4.10.0)\n",
      "Requirement already satisfied: pyyaml>=6.0.2 in /mnt/data/Github/7-Day-AI-Agents-Email-Crash-Course/.venv/lib/python3.13/site-packages (from pydantic-evals==1.0.15->pydantic-ai-slim[ag-ui,anthropic,bedrock,cli,cohere,evals,google,groq,huggingface,logfire,mcp,mistral,openai,retries,temporal,vertexai]==1.0.15->pydantic-ai) (6.0.3)\n",
      "Requirement already satisfied: nexus-rpc==1.1.0 in /mnt/data/Github/7-Day-AI-Agents-Email-Crash-Course/.venv/lib/python3.13/site-packages (from temporalio==1.18.0->pydantic-ai-slim[ag-ui,anthropic,bedrock,cli,cohere,evals,google,groq,huggingface,logfire,mcp,mistral,openai,retries,temporal,vertexai]==1.0.15->pydantic-ai) (1.1.0)\n",
      "Requirement already satisfied: protobuf<7.0.0,>=3.20 in /mnt/data/Github/7-Day-AI-Agents-Email-Crash-Course/.venv/lib/python3.13/site-packages (from temporalio==1.18.0->pydantic-ai-slim[ag-ui,anthropic,bedrock,cli,cohere,evals,google,groq,huggingface,logfire,mcp,mistral,openai,retries,temporal,vertexai]==1.0.15->pydantic-ai) (6.32.1)\n",
      "Requirement already satisfied: types-protobuf>=3.20 in /mnt/data/Github/7-Day-AI-Agents-Email-Crash-Course/.venv/lib/python3.13/site-packages (from temporalio==1.18.0->pydantic-ai-slim[ag-ui,anthropic,bedrock,cli,cohere,evals,google,groq,huggingface,logfire,mcp,mistral,openai,retries,temporal,vertexai]==1.0.15->pydantic-ai) (6.32.1.20250918)\n",
      "Requirement already satisfied: typing-extensions<5,>=4.2.0 in /mnt/data/Github/7-Day-AI-Agents-Email-Crash-Course/.venv/lib/python3.13/site-packages (from temporalio==1.18.0->pydantic-ai-slim[ag-ui,anthropic,bedrock,cli,cohere,evals,google,groq,huggingface,logfire,mcp,mistral,openai,retries,temporal,vertexai]==1.0.15->pydantic-ai) (4.15.0)\n",
      "Requirement already satisfied: annotated-types>=0.6.0 in /mnt/data/Github/7-Day-AI-Agents-Email-Crash-Course/.venv/lib/python3.13/site-packages (from pydantic>=2.10->pydantic-ai-slim==1.0.15->pydantic-ai-slim[ag-ui,anthropic,bedrock,cli,cohere,evals,google,groq,huggingface,logfire,mcp,mistral,openai,retries,temporal,vertexai]==1.0.15->pydantic-ai) (0.7.0)\n",
      "Requirement already satisfied: pydantic-core==2.33.2 in /mnt/data/Github/7-Day-AI-Agents-Email-Crash-Course/.venv/lib/python3.13/site-packages (from pydantic>=2.10->pydantic-ai-slim==1.0.15->pydantic-ai-slim[ag-ui,anthropic,bedrock,cli,cohere,evals,google,groq,huggingface,logfire,mcp,mistral,openai,retries,temporal,vertexai]==1.0.15->pydantic-ai) (2.33.2)\n",
      "Requirement already satisfied: distro<2,>=1.7.0 in /mnt/data/Github/7-Day-AI-Agents-Email-Crash-Course/.venv/lib/python3.13/site-packages (from anthropic>=0.69.0->pydantic-ai-slim[ag-ui,anthropic,bedrock,cli,cohere,evals,google,groq,huggingface,logfire,mcp,mistral,openai,retries,temporal,vertexai]==1.0.15->pydantic-ai) (1.9.0)\n",
      "Requirement already satisfied: docstring-parser<1,>=0.15 in /mnt/data/Github/7-Day-AI-Agents-Email-Crash-Course/.venv/lib/python3.13/site-packages (from anthropic>=0.69.0->pydantic-ai-slim[ag-ui,anthropic,bedrock,cli,cohere,evals,google,groq,huggingface,logfire,mcp,mistral,openai,retries,temporal,vertexai]==1.0.15->pydantic-ai) (0.17.0)\n",
      "Requirement already satisfied: jiter<1,>=0.4.0 in /mnt/data/Github/7-Day-AI-Agents-Email-Crash-Course/.venv/lib/python3.13/site-packages (from anthropic>=0.69.0->pydantic-ai-slim[ag-ui,anthropic,bedrock,cli,cohere,evals,google,groq,huggingface,logfire,mcp,mistral,openai,retries,temporal,vertexai]==1.0.15->pydantic-ai) (0.11.0)\n",
      "Requirement already satisfied: sniffio in /mnt/data/Github/7-Day-AI-Agents-Email-Crash-Course/.venv/lib/python3.13/site-packages (from anthropic>=0.69.0->pydantic-ai-slim[ag-ui,anthropic,bedrock,cli,cohere,evals,google,groq,huggingface,logfire,mcp,mistral,openai,retries,temporal,vertexai]==1.0.15->pydantic-ai) (1.3.1)\n",
      "Requirement already satisfied: idna>=2.8 in /mnt/data/Github/7-Day-AI-Agents-Email-Crash-Course/.venv/lib/python3.13/site-packages (from anyio>=0->pydantic-evals==1.0.15->pydantic-ai-slim[ag-ui,anthropic,bedrock,cli,cohere,evals,google,groq,huggingface,logfire,mcp,mistral,openai,retries,temporal,vertexai]==1.0.15->pydantic-ai) (3.10)\n",
      "Requirement already satisfied: certifi in /mnt/data/Github/7-Day-AI-Agents-Email-Crash-Course/.venv/lib/python3.13/site-packages (from httpx>=0.27->pydantic-ai-slim==1.0.15->pydantic-ai-slim[ag-ui,anthropic,bedrock,cli,cohere,evals,google,groq,huggingface,logfire,mcp,mistral,openai,retries,temporal,vertexai]==1.0.15->pydantic-ai) (2025.8.3)\n",
      "Requirement already satisfied: httpcore==1.* in /mnt/data/Github/7-Day-AI-Agents-Email-Crash-Course/.venv/lib/python3.13/site-packages (from httpx>=0.27->pydantic-ai-slim==1.0.15->pydantic-ai-slim[ag-ui,anthropic,bedrock,cli,cohere,evals,google,groq,huggingface,logfire,mcp,mistral,openai,retries,temporal,vertexai]==1.0.15->pydantic-ai) (1.0.9)\n",
      "Requirement already satisfied: h11>=0.16 in /mnt/data/Github/7-Day-AI-Agents-Email-Crash-Course/.venv/lib/python3.13/site-packages (from httpcore==1.*->httpx>=0.27->pydantic-ai-slim==1.0.15->pydantic-ai-slim[ag-ui,anthropic,bedrock,cli,cohere,evals,google,groq,huggingface,logfire,mcp,mistral,openai,retries,temporal,vertexai]==1.0.15->pydantic-ai) (0.16.0)\n",
      "Requirement already satisfied: botocore<1.41.0,>=1.40.43 in /mnt/data/Github/7-Day-AI-Agents-Email-Crash-Course/.venv/lib/python3.13/site-packages (from boto3>=1.39.0->pydantic-ai-slim[ag-ui,anthropic,bedrock,cli,cohere,evals,google,groq,huggingface,logfire,mcp,mistral,openai,retries,temporal,vertexai]==1.0.15->pydantic-ai) (1.40.43)\n",
      "Requirement already satisfied: jmespath<2.0.0,>=0.7.1 in /mnt/data/Github/7-Day-AI-Agents-Email-Crash-Course/.venv/lib/python3.13/site-packages (from boto3>=1.39.0->pydantic-ai-slim[ag-ui,anthropic,bedrock,cli,cohere,evals,google,groq,huggingface,logfire,mcp,mistral,openai,retries,temporal,vertexai]==1.0.15->pydantic-ai) (1.0.1)\n",
      "Requirement already satisfied: s3transfer<0.15.0,>=0.14.0 in /mnt/data/Github/7-Day-AI-Agents-Email-Crash-Course/.venv/lib/python3.13/site-packages (from boto3>=1.39.0->pydantic-ai-slim[ag-ui,anthropic,bedrock,cli,cohere,evals,google,groq,huggingface,logfire,mcp,mistral,openai,retries,temporal,vertexai]==1.0.15->pydantic-ai) (0.14.0)\n",
      "Requirement already satisfied: python-dateutil<3.0.0,>=2.1 in /mnt/data/Github/7-Day-AI-Agents-Email-Crash-Course/.venv/lib/python3.13/site-packages (from botocore<1.41.0,>=1.40.43->boto3>=1.39.0->pydantic-ai-slim[ag-ui,anthropic,bedrock,cli,cohere,evals,google,groq,huggingface,logfire,mcp,mistral,openai,retries,temporal,vertexai]==1.0.15->pydantic-ai) (2.9.0.post0)\n",
      "Requirement already satisfied: urllib3!=2.2.0,<3,>=1.25.4 in /mnt/data/Github/7-Day-AI-Agents-Email-Crash-Course/.venv/lib/python3.13/site-packages (from botocore<1.41.0,>=1.40.43->boto3>=1.39.0->pydantic-ai-slim[ag-ui,anthropic,bedrock,cli,cohere,evals,google,groq,huggingface,logfire,mcp,mistral,openai,retries,temporal,vertexai]==1.0.15->pydantic-ai) (2.5.0)\n",
      "Requirement already satisfied: six>=1.5 in /mnt/data/Github/7-Day-AI-Agents-Email-Crash-Course/.venv/lib/python3.13/site-packages (from python-dateutil<3.0.0,>=2.1->botocore<1.41.0,>=1.40.43->boto3>=1.39.0->pydantic-ai-slim[ag-ui,anthropic,bedrock,cli,cohere,evals,google,groq,huggingface,logfire,mcp,mistral,openai,retries,temporal,vertexai]==1.0.15->pydantic-ai) (1.17.0)\n",
      "Requirement already satisfied: fastavro<2.0.0,>=1.9.4 in /mnt/data/Github/7-Day-AI-Agents-Email-Crash-Course/.venv/lib/python3.13/site-packages (from cohere>=5.18.0->pydantic-ai-slim[ag-ui,anthropic,bedrock,cli,cohere,evals,google,groq,huggingface,logfire,mcp,mistral,openai,retries,temporal,vertexai]==1.0.15->pydantic-ai) (1.12.0)\n",
      "Requirement already satisfied: httpx-sse==0.4.0 in /mnt/data/Github/7-Day-AI-Agents-Email-Crash-Course/.venv/lib/python3.13/site-packages (from cohere>=5.18.0->pydantic-ai-slim[ag-ui,anthropic,bedrock,cli,cohere,evals,google,groq,huggingface,logfire,mcp,mistral,openai,retries,temporal,vertexai]==1.0.15->pydantic-ai) (0.4.0)\n",
      "Requirement already satisfied: tokenizers<1,>=0.15 in /mnt/data/Github/7-Day-AI-Agents-Email-Crash-Course/.venv/lib/python3.13/site-packages (from cohere>=5.18.0->pydantic-ai-slim[ag-ui,anthropic,bedrock,cli,cohere,evals,google,groq,huggingface,logfire,mcp,mistral,openai,retries,temporal,vertexai]==1.0.15->pydantic-ai) (0.22.1)\n",
      "Requirement already satisfied: types-requests<3.0.0,>=2.0.0 in /mnt/data/Github/7-Day-AI-Agents-Email-Crash-Course/.venv/lib/python3.13/site-packages (from cohere>=5.18.0->pydantic-ai-slim[ag-ui,anthropic,bedrock,cli,cohere,evals,google,groq,huggingface,logfire,mcp,mistral,openai,retries,temporal,vertexai]==1.0.15->pydantic-ai) (2.32.4.20250913)\n",
      "Requirement already satisfied: charset_normalizer<4,>=2 in /mnt/data/Github/7-Day-AI-Agents-Email-Crash-Course/.venv/lib/python3.13/site-packages (from requests>=2.32.2->pydantic-ai-slim[ag-ui,anthropic,bedrock,cli,cohere,evals,google,groq,huggingface,logfire,mcp,mistral,openai,retries,temporal,vertexai]==1.0.15->pydantic-ai) (3.4.3)\n",
      "Requirement already satisfied: filelock in /mnt/data/Github/7-Day-AI-Agents-Email-Crash-Course/.venv/lib/python3.13/site-packages (from huggingface-hub>=0.33.5->huggingface-hub[inference]>=0.33.5; extra == \"huggingface\"->pydantic-ai-slim[ag-ui,anthropic,bedrock,cli,cohere,evals,google,groq,huggingface,logfire,mcp,mistral,openai,retries,temporal,vertexai]==1.0.15->pydantic-ai) (3.19.1)\n",
      "Requirement already satisfied: fsspec>=2023.5.0 in /mnt/data/Github/7-Day-AI-Agents-Email-Crash-Course/.venv/lib/python3.13/site-packages (from huggingface-hub>=0.33.5->huggingface-hub[inference]>=0.33.5; extra == \"huggingface\"->pydantic-ai-slim[ag-ui,anthropic,bedrock,cli,cohere,evals,google,groq,huggingface,logfire,mcp,mistral,openai,retries,temporal,vertexai]==1.0.15->pydantic-ai) (2025.9.0)\n",
      "Requirement already satisfied: packaging>=20.9 in /mnt/data/Github/7-Day-AI-Agents-Email-Crash-Course/.venv/lib/python3.13/site-packages (from huggingface-hub>=0.33.5->huggingface-hub[inference]>=0.33.5; extra == \"huggingface\"->pydantic-ai-slim[ag-ui,anthropic,bedrock,cli,cohere,evals,google,groq,huggingface,logfire,mcp,mistral,openai,retries,temporal,vertexai]==1.0.15->pydantic-ai) (25.0)\n",
      "Requirement already satisfied: tqdm>=4.42.1 in /mnt/data/Github/7-Day-AI-Agents-Email-Crash-Course/.venv/lib/python3.13/site-packages (from huggingface-hub>=0.33.5->huggingface-hub[inference]>=0.33.5; extra == \"huggingface\"->pydantic-ai-slim[ag-ui,anthropic,bedrock,cli,cohere,evals,google,groq,huggingface,logfire,mcp,mistral,openai,retries,temporal,vertexai]==1.0.15->pydantic-ai) (4.67.1)\n",
      "Requirement already satisfied: hf-xet<2.0.0,>=1.1.3 in /mnt/data/Github/7-Day-AI-Agents-Email-Crash-Course/.venv/lib/python3.13/site-packages (from huggingface-hub>=0.33.5->huggingface-hub[inference]>=0.33.5; extra == \"huggingface\"->pydantic-ai-slim[ag-ui,anthropic,bedrock,cli,cohere,evals,google,groq,huggingface,logfire,mcp,mistral,openai,retries,temporal,vertexai]==1.0.15->pydantic-ai) (1.1.10)\n",
      "Requirement already satisfied: cachetools<7.0,>=2.0.0 in /mnt/data/Github/7-Day-AI-Agents-Email-Crash-Course/.venv/lib/python3.13/site-packages (from google-auth>=2.36.0->pydantic-ai-slim[ag-ui,anthropic,bedrock,cli,cohere,evals,google,groq,huggingface,logfire,mcp,mistral,openai,retries,temporal,vertexai]==1.0.15->pydantic-ai) (6.2.0)\n",
      "Requirement already satisfied: pyasn1-modules>=0.2.1 in /mnt/data/Github/7-Day-AI-Agents-Email-Crash-Course/.venv/lib/python3.13/site-packages (from google-auth>=2.36.0->pydantic-ai-slim[ag-ui,anthropic,bedrock,cli,cohere,evals,google,groq,huggingface,logfire,mcp,mistral,openai,retries,temporal,vertexai]==1.0.15->pydantic-ai) (0.4.2)\n",
      "Requirement already satisfied: rsa<5,>=3.1.4 in /mnt/data/Github/7-Day-AI-Agents-Email-Crash-Course/.venv/lib/python3.13/site-packages (from google-auth>=2.36.0->pydantic-ai-slim[ag-ui,anthropic,bedrock,cli,cohere,evals,google,groq,huggingface,logfire,mcp,mistral,openai,retries,temporal,vertexai]==1.0.15->pydantic-ai) (4.9.1)\n",
      "Requirement already satisfied: pyasn1>=0.1.3 in /mnt/data/Github/7-Day-AI-Agents-Email-Crash-Course/.venv/lib/python3.13/site-packages (from rsa<5,>=3.1.4->google-auth>=2.36.0->pydantic-ai-slim[ag-ui,anthropic,bedrock,cli,cohere,evals,google,groq,huggingface,logfire,mcp,mistral,openai,retries,temporal,vertexai]==1.0.15->pydantic-ai) (0.6.1)\n",
      "Requirement already satisfied: websockets<15.1.0,>=13.0.0 in /mnt/data/Github/7-Day-AI-Agents-Email-Crash-Course/.venv/lib/python3.13/site-packages (from google-genai>=1.31.0->pydantic-ai-slim[ag-ui,anthropic,bedrock,cli,cohere,evals,google,groq,huggingface,logfire,mcp,mistral,openai,retries,temporal,vertexai]==1.0.15->pydantic-ai) (15.0.1)\n",
      "Requirement already satisfied: colorama>=0.4 in /mnt/data/Github/7-Day-AI-Agents-Email-Crash-Course/.venv/lib/python3.13/site-packages (from griffe>=1.3.2->pydantic-ai-slim==1.0.15->pydantic-ai-slim[ag-ui,anthropic,bedrock,cli,cohere,evals,google,groq,huggingface,logfire,mcp,mistral,openai,retries,temporal,vertexai]==1.0.15->pydantic-ai) (0.4.6)\n",
      "Requirement already satisfied: aiohttp in /mnt/data/Github/7-Day-AI-Agents-Email-Crash-Course/.venv/lib/python3.13/site-packages (from huggingface-hub[inference]>=0.33.5; extra == \"huggingface\"->pydantic-ai-slim[ag-ui,anthropic,bedrock,cli,cohere,evals,google,groq,huggingface,logfire,mcp,mistral,openai,retries,temporal,vertexai]==1.0.15->pydantic-ai) (3.12.15)\n",
      "Requirement already satisfied: executing>=2.0.1 in /mnt/data/Github/7-Day-AI-Agents-Email-Crash-Course/.venv/lib/python3.13/site-packages (from logfire>=3.14.1->logfire[httpx]>=3.14.1; extra == \"logfire\"->pydantic-ai-slim[ag-ui,anthropic,bedrock,cli,cohere,evals,google,groq,huggingface,logfire,mcp,mistral,openai,retries,temporal,vertexai]==1.0.15->pydantic-ai) (2.2.1)\n",
      "Requirement already satisfied: opentelemetry-exporter-otlp-proto-http<1.38.0,>=1.35.0 in /mnt/data/Github/7-Day-AI-Agents-Email-Crash-Course/.venv/lib/python3.13/site-packages (from logfire>=3.14.1->logfire[httpx]>=3.14.1; extra == \"logfire\"->pydantic-ai-slim[ag-ui,anthropic,bedrock,cli,cohere,evals,google,groq,huggingface,logfire,mcp,mistral,openai,retries,temporal,vertexai]==1.0.15->pydantic-ai) (1.37.0)\n",
      "Requirement already satisfied: opentelemetry-instrumentation>=0.41b0 in /mnt/data/Github/7-Day-AI-Agents-Email-Crash-Course/.venv/lib/python3.13/site-packages (from logfire>=3.14.1->logfire[httpx]>=3.14.1; extra == \"logfire\"->pydantic-ai-slim[ag-ui,anthropic,bedrock,cli,cohere,evals,google,groq,huggingface,logfire,mcp,mistral,openai,retries,temporal,vertexai]==1.0.15->pydantic-ai) (0.58b0)\n",
      "Requirement already satisfied: opentelemetry-sdk<1.38.0,>=1.35.0 in /mnt/data/Github/7-Day-AI-Agents-Email-Crash-Course/.venv/lib/python3.13/site-packages (from logfire>=3.14.1->logfire[httpx]>=3.14.1; extra == \"logfire\"->pydantic-ai-slim[ag-ui,anthropic,bedrock,cli,cohere,evals,google,groq,huggingface,logfire,mcp,mistral,openai,retries,temporal,vertexai]==1.0.15->pydantic-ai) (1.37.0)\n",
      "Requirement already satisfied: googleapis-common-protos~=1.52 in /mnt/data/Github/7-Day-AI-Agents-Email-Crash-Course/.venv/lib/python3.13/site-packages (from opentelemetry-exporter-otlp-proto-http<1.38.0,>=1.35.0->logfire>=3.14.1->logfire[httpx]>=3.14.1; extra == \"logfire\"->pydantic-ai-slim[ag-ui,anthropic,bedrock,cli,cohere,evals,google,groq,huggingface,logfire,mcp,mistral,openai,retries,temporal,vertexai]==1.0.15->pydantic-ai) (1.70.0)\n",
      "Requirement already satisfied: opentelemetry-exporter-otlp-proto-common==1.37.0 in /mnt/data/Github/7-Day-AI-Agents-Email-Crash-Course/.venv/lib/python3.13/site-packages (from opentelemetry-exporter-otlp-proto-http<1.38.0,>=1.35.0->logfire>=3.14.1->logfire[httpx]>=3.14.1; extra == \"logfire\"->pydantic-ai-slim[ag-ui,anthropic,bedrock,cli,cohere,evals,google,groq,huggingface,logfire,mcp,mistral,openai,retries,temporal,vertexai]==1.0.15->pydantic-ai) (1.37.0)\n",
      "Requirement already satisfied: opentelemetry-proto==1.37.0 in /mnt/data/Github/7-Day-AI-Agents-Email-Crash-Course/.venv/lib/python3.13/site-packages (from opentelemetry-exporter-otlp-proto-http<1.38.0,>=1.35.0->logfire>=3.14.1->logfire[httpx]>=3.14.1; extra == \"logfire\"->pydantic-ai-slim[ag-ui,anthropic,bedrock,cli,cohere,evals,google,groq,huggingface,logfire,mcp,mistral,openai,retries,temporal,vertexai]==1.0.15->pydantic-ai) (1.37.0)\n",
      "Requirement already satisfied: importlib-metadata<8.8.0,>=6.0 in /mnt/data/Github/7-Day-AI-Agents-Email-Crash-Course/.venv/lib/python3.13/site-packages (from opentelemetry-api>=1.28.0->pydantic-ai-slim==1.0.15->pydantic-ai-slim[ag-ui,anthropic,bedrock,cli,cohere,evals,google,groq,huggingface,logfire,mcp,mistral,openai,retries,temporal,vertexai]==1.0.15->pydantic-ai) (8.7.0)\n",
      "Requirement already satisfied: zipp>=3.20 in /mnt/data/Github/7-Day-AI-Agents-Email-Crash-Course/.venv/lib/python3.13/site-packages (from importlib-metadata<8.8.0,>=6.0->opentelemetry-api>=1.28.0->pydantic-ai-slim==1.0.15->pydantic-ai-slim[ag-ui,anthropic,bedrock,cli,cohere,evals,google,groq,huggingface,logfire,mcp,mistral,openai,retries,temporal,vertexai]==1.0.15->pydantic-ai) (3.23.0)\n",
      "Requirement already satisfied: opentelemetry-semantic-conventions==0.58b0 in /mnt/data/Github/7-Day-AI-Agents-Email-Crash-Course/.venv/lib/python3.13/site-packages (from opentelemetry-sdk<1.38.0,>=1.35.0->logfire>=3.14.1->logfire[httpx]>=3.14.1; extra == \"logfire\"->pydantic-ai-slim[ag-ui,anthropic,bedrock,cli,cohere,evals,google,groq,huggingface,logfire,mcp,mistral,openai,retries,temporal,vertexai]==1.0.15->pydantic-ai) (0.58b0)\n",
      "Requirement already satisfied: opentelemetry-instrumentation-httpx>=0.42b0 in /mnt/data/Github/7-Day-AI-Agents-Email-Crash-Course/.venv/lib/python3.13/site-packages (from logfire[httpx]>=3.14.1; extra == \"logfire\"->pydantic-ai-slim[ag-ui,anthropic,bedrock,cli,cohere,evals,google,groq,huggingface,logfire,mcp,mistral,openai,retries,temporal,vertexai]==1.0.15->pydantic-ai) (0.58b0)\n",
      "Requirement already satisfied: jsonschema>=4.20.0 in /mnt/data/Github/7-Day-AI-Agents-Email-Crash-Course/.venv/lib/python3.13/site-packages (from mcp>=1.12.3->pydantic-ai-slim[ag-ui,anthropic,bedrock,cli,cohere,evals,google,groq,huggingface,logfire,mcp,mistral,openai,retries,temporal,vertexai]==1.0.15->pydantic-ai) (4.25.1)\n",
      "Requirement already satisfied: pydantic-settings>=2.5.2 in /mnt/data/Github/7-Day-AI-Agents-Email-Crash-Course/.venv/lib/python3.13/site-packages (from mcp>=1.12.3->pydantic-ai-slim[ag-ui,anthropic,bedrock,cli,cohere,evals,google,groq,huggingface,logfire,mcp,mistral,openai,retries,temporal,vertexai]==1.0.15->pydantic-ai) (2.11.0)\n",
      "Requirement already satisfied: python-multipart>=0.0.9 in /mnt/data/Github/7-Day-AI-Agents-Email-Crash-Course/.venv/lib/python3.13/site-packages (from mcp>=1.12.3->pydantic-ai-slim[ag-ui,anthropic,bedrock,cli,cohere,evals,google,groq,huggingface,logfire,mcp,mistral,openai,retries,temporal,vertexai]==1.0.15->pydantic-ai) (0.0.20)\n",
      "Requirement already satisfied: sse-starlette>=1.6.1 in /mnt/data/Github/7-Day-AI-Agents-Email-Crash-Course/.venv/lib/python3.13/site-packages (from mcp>=1.12.3->pydantic-ai-slim[ag-ui,anthropic,bedrock,cli,cohere,evals,google,groq,huggingface,logfire,mcp,mistral,openai,retries,temporal,vertexai]==1.0.15->pydantic-ai) (3.0.2)\n",
      "Requirement already satisfied: uvicorn>=0.31.1 in /mnt/data/Github/7-Day-AI-Agents-Email-Crash-Course/.venv/lib/python3.13/site-packages (from mcp>=1.12.3->pydantic-ai-slim[ag-ui,anthropic,bedrock,cli,cohere,evals,google,groq,huggingface,logfire,mcp,mistral,openai,retries,temporal,vertexai]==1.0.15->pydantic-ai) (0.37.0)\n",
      "Requirement already satisfied: attrs>=22.2.0 in /mnt/data/Github/7-Day-AI-Agents-Email-Crash-Course/.venv/lib/python3.13/site-packages (from jsonschema>=4.20.0->mcp>=1.12.3->pydantic-ai-slim[ag-ui,anthropic,bedrock,cli,cohere,evals,google,groq,huggingface,logfire,mcp,mistral,openai,retries,temporal,vertexai]==1.0.15->pydantic-ai) (25.3.0)\n",
      "Requirement already satisfied: jsonschema-specifications>=2023.03.6 in /mnt/data/Github/7-Day-AI-Agents-Email-Crash-Course/.venv/lib/python3.13/site-packages (from jsonschema>=4.20.0->mcp>=1.12.3->pydantic-ai-slim[ag-ui,anthropic,bedrock,cli,cohere,evals,google,groq,huggingface,logfire,mcp,mistral,openai,retries,temporal,vertexai]==1.0.15->pydantic-ai) (2025.9.1)\n",
      "Requirement already satisfied: referencing>=0.28.4 in /mnt/data/Github/7-Day-AI-Agents-Email-Crash-Course/.venv/lib/python3.13/site-packages (from jsonschema>=4.20.0->mcp>=1.12.3->pydantic-ai-slim[ag-ui,anthropic,bedrock,cli,cohere,evals,google,groq,huggingface,logfire,mcp,mistral,openai,retries,temporal,vertexai]==1.0.15->pydantic-ai) (0.36.2)\n",
      "Requirement already satisfied: rpds-py>=0.7.1 in /mnt/data/Github/7-Day-AI-Agents-Email-Crash-Course/.venv/lib/python3.13/site-packages (from jsonschema>=4.20.0->mcp>=1.12.3->pydantic-ai-slim[ag-ui,anthropic,bedrock,cli,cohere,evals,google,groq,huggingface,logfire,mcp,mistral,openai,retries,temporal,vertexai]==1.0.15->pydantic-ai) (0.27.1)\n",
      "Requirement already satisfied: eval-type-backport>=0.2.0 in /mnt/data/Github/7-Day-AI-Agents-Email-Crash-Course/.venv/lib/python3.13/site-packages (from mistralai>=1.9.10->pydantic-ai-slim[ag-ui,anthropic,bedrock,cli,cohere,evals,google,groq,huggingface,logfire,mcp,mistral,openai,retries,temporal,vertexai]==1.0.15->pydantic-ai) (0.2.2)\n",
      "Requirement already satisfied: invoke<3.0.0,>=2.2.0 in /mnt/data/Github/7-Day-AI-Agents-Email-Crash-Course/.venv/lib/python3.13/site-packages (from mistralai>=1.9.10->pydantic-ai-slim[ag-ui,anthropic,bedrock,cli,cohere,evals,google,groq,huggingface,logfire,mcp,mistral,openai,retries,temporal,vertexai]==1.0.15->pydantic-ai) (2.2.0)\n",
      "Requirement already satisfied: wrapt<2.0.0,>=1.0.0 in /mnt/data/Github/7-Day-AI-Agents-Email-Crash-Course/.venv/lib/python3.13/site-packages (from opentelemetry-instrumentation>=0.41b0->logfire>=3.14.1->logfire[httpx]>=3.14.1; extra == \"logfire\"->pydantic-ai-slim[ag-ui,anthropic,bedrock,cli,cohere,evals,google,groq,huggingface,logfire,mcp,mistral,openai,retries,temporal,vertexai]==1.0.15->pydantic-ai) (1.17.3)\n",
      "Requirement already satisfied: opentelemetry-util-http==0.58b0 in /mnt/data/Github/7-Day-AI-Agents-Email-Crash-Course/.venv/lib/python3.13/site-packages (from opentelemetry-instrumentation-httpx>=0.42b0->logfire[httpx]>=3.14.1; extra == \"logfire\"->pydantic-ai-slim[ag-ui,anthropic,bedrock,cli,cohere,evals,google,groq,huggingface,logfire,mcp,mistral,openai,retries,temporal,vertexai]==1.0.15->pydantic-ai) (0.58b0)\n",
      "Requirement already satisfied: wcwidth in /mnt/data/Github/7-Day-AI-Agents-Email-Crash-Course/.venv/lib/python3.13/site-packages (from prompt-toolkit>=3->pydantic-ai-slim[ag-ui,anthropic,bedrock,cli,cohere,evals,google,groq,huggingface,logfire,mcp,mistral,openai,retries,temporal,vertexai]==1.0.15->pydantic-ai) (0.2.14)\n",
      "Requirement already satisfied: python-dotenv>=0.21.0 in /mnt/data/Github/7-Day-AI-Agents-Email-Crash-Course/.venv/lib/python3.13/site-packages (from pydantic-settings>=2.5.2->mcp>=1.12.3->pydantic-ai-slim[ag-ui,anthropic,bedrock,cli,cohere,evals,google,groq,huggingface,logfire,mcp,mistral,openai,retries,temporal,vertexai]==1.0.15->pydantic-ai) (1.1.1)\n",
      "Requirement already satisfied: markdown-it-py>=2.2.0 in /mnt/data/Github/7-Day-AI-Agents-Email-Crash-Course/.venv/lib/python3.13/site-packages (from rich>=13->pydantic-ai-slim[ag-ui,anthropic,bedrock,cli,cohere,evals,google,groq,huggingface,logfire,mcp,mistral,openai,retries,temporal,vertexai]==1.0.15->pydantic-ai) (4.0.0)\n",
      "Requirement already satisfied: pygments<3.0.0,>=2.13.0 in /mnt/data/Github/7-Day-AI-Agents-Email-Crash-Course/.venv/lib/python3.13/site-packages (from rich>=13->pydantic-ai-slim[ag-ui,anthropic,bedrock,cli,cohere,evals,google,groq,huggingface,logfire,mcp,mistral,openai,retries,temporal,vertexai]==1.0.15->pydantic-ai) (2.19.2)\n",
      "Requirement already satisfied: mdurl~=0.1 in /mnt/data/Github/7-Day-AI-Agents-Email-Crash-Course/.venv/lib/python3.13/site-packages (from markdown-it-py>=2.2.0->rich>=13->pydantic-ai-slim[ag-ui,anthropic,bedrock,cli,cohere,evals,google,groq,huggingface,logfire,mcp,mistral,openai,retries,temporal,vertexai]==1.0.15->pydantic-ai) (0.1.2)\n",
      "Requirement already satisfied: click>=7.0 in /mnt/data/Github/7-Day-AI-Agents-Email-Crash-Course/.venv/lib/python3.13/site-packages (from uvicorn>=0.31.1->mcp>=1.12.3->pydantic-ai-slim[ag-ui,anthropic,bedrock,cli,cohere,evals,google,groq,huggingface,logfire,mcp,mistral,openai,retries,temporal,vertexai]==1.0.15->pydantic-ai) (8.3.0)\n",
      "Requirement already satisfied: aiohappyeyeballs>=2.5.0 in /mnt/data/Github/7-Day-AI-Agents-Email-Crash-Course/.venv/lib/python3.13/site-packages (from aiohttp->huggingface-hub[inference]>=0.33.5; extra == \"huggingface\"->pydantic-ai-slim[ag-ui,anthropic,bedrock,cli,cohere,evals,google,groq,huggingface,logfire,mcp,mistral,openai,retries,temporal,vertexai]==1.0.15->pydantic-ai) (2.6.1)\n",
      "Requirement already satisfied: aiosignal>=1.4.0 in /mnt/data/Github/7-Day-AI-Agents-Email-Crash-Course/.venv/lib/python3.13/site-packages (from aiohttp->huggingface-hub[inference]>=0.33.5; extra == \"huggingface\"->pydantic-ai-slim[ag-ui,anthropic,bedrock,cli,cohere,evals,google,groq,huggingface,logfire,mcp,mistral,openai,retries,temporal,vertexai]==1.0.15->pydantic-ai) (1.4.0)\n",
      "Requirement already satisfied: frozenlist>=1.1.1 in /mnt/data/Github/7-Day-AI-Agents-Email-Crash-Course/.venv/lib/python3.13/site-packages (from aiohttp->huggingface-hub[inference]>=0.33.5; extra == \"huggingface\"->pydantic-ai-slim[ag-ui,anthropic,bedrock,cli,cohere,evals,google,groq,huggingface,logfire,mcp,mistral,openai,retries,temporal,vertexai]==1.0.15->pydantic-ai) (1.7.0)\n",
      "Requirement already satisfied: multidict<7.0,>=4.5 in /mnt/data/Github/7-Day-AI-Agents-Email-Crash-Course/.venv/lib/python3.13/site-packages (from aiohttp->huggingface-hub[inference]>=0.33.5; extra == \"huggingface\"->pydantic-ai-slim[ag-ui,anthropic,bedrock,cli,cohere,evals,google,groq,huggingface,logfire,mcp,mistral,openai,retries,temporal,vertexai]==1.0.15->pydantic-ai) (6.6.4)\n",
      "Requirement already satisfied: propcache>=0.2.0 in /mnt/data/Github/7-Day-AI-Agents-Email-Crash-Course/.venv/lib/python3.13/site-packages (from aiohttp->huggingface-hub[inference]>=0.33.5; extra == \"huggingface\"->pydantic-ai-slim[ag-ui,anthropic,bedrock,cli,cohere,evals,google,groq,huggingface,logfire,mcp,mistral,openai,retries,temporal,vertexai]==1.0.15->pydantic-ai) (0.3.2)\n",
      "Requirement already satisfied: yarl<2.0,>=1.17.0 in /mnt/data/Github/7-Day-AI-Agents-Email-Crash-Course/.venv/lib/python3.13/site-packages (from aiohttp->huggingface-hub[inference]>=0.33.5; extra == \"huggingface\"->pydantic-ai-slim[ag-ui,anthropic,bedrock,cli,cohere,evals,google,groq,huggingface,logfire,mcp,mistral,openai,retries,temporal,vertexai]==1.0.15->pydantic-ai) (1.20.1)\n",
      "Note: you may need to restart the kernel to use updated packages.\n",
      "Requirement already satisfied: python-dotenv in /mnt/data/Github/7-Day-AI-Agents-Email-Crash-Course/.venv/lib/python3.13/site-packages (1.1.1)\n",
      "Note: you may need to restart the kernel to use updated packages.\n",
      "Requirement already satisfied: requests in /mnt/data/Github/7-Day-AI-Agents-Email-Crash-Course/.venv/lib/python3.13/site-packages (2.32.5)\n",
      "Requirement already satisfied: charset_normalizer<4,>=2 in /mnt/data/Github/7-Day-AI-Agents-Email-Crash-Course/.venv/lib/python3.13/site-packages (from requests) (3.4.3)\n",
      "Requirement already satisfied: idna<4,>=2.5 in /mnt/data/Github/7-Day-AI-Agents-Email-Crash-Course/.venv/lib/python3.13/site-packages (from requests) (3.10)\n",
      "Requirement already satisfied: urllib3<3,>=1.21.1 in /mnt/data/Github/7-Day-AI-Agents-Email-Crash-Course/.venv/lib/python3.13/site-packages (from requests) (2.5.0)\n",
      "Requirement already satisfied: certifi>=2017.4.17 in /mnt/data/Github/7-Day-AI-Agents-Email-Crash-Course/.venv/lib/python3.13/site-packages (from requests) (2025.8.3)\n",
      "Note: you may need to restart the kernel to use updated packages.\n",
      "Requirement already satisfied: python-frontmatter in /mnt/data/Github/7-Day-AI-Agents-Email-Crash-Course/.venv/lib/python3.13/site-packages (1.1.0)\n",
      "Requirement already satisfied: PyYAML in /mnt/data/Github/7-Day-AI-Agents-Email-Crash-Course/.venv/lib/python3.13/site-packages (from python-frontmatter) (6.0.3)\n",
      "Note: you may need to restart the kernel to use updated packages.\n"
     ]
    }
   ],
   "source": [
    "# Install dependencies\n",
    "%pip install pydantic-ai\n",
    "%pip install python-dotenv\n",
    "%pip install requests\n",
    "%pip install python-frontmatter"
   ]
  },
  {
   "cell_type": "code",
   "execution_count": 1,
   "metadata": {},
   "outputs": [
    {
     "name": "stdout",
     "output_type": "stream",
     "text": [
      "API Key loaded: sk-pro...\n"
     ]
    }
   ],
   "source": [
    "from dotenv import load_dotenv\n",
    "import os\n",
    "import json\n",
    "import random\n",
    "from pathlib import Path\n",
    "from pydantic import BaseModel\n",
    "from pydantic_ai import Agent\n",
    "\n",
    "# Load environment variables\n",
    "load_dotenv()\n",
    "\n",
    "OPENAI_API_KEY = os.getenv(\"OPENAI_API_KEY\")\n",
    "if not OPENAI_API_KEY:\n",
    "    raise RuntimeError(\"OPENAI_API_KEY not found. Set it in .env file.\")\n",
    "\n",
    "print(\"API Key loaded:\", OPENAI_API_KEY[:6] + \"...\")"
   ]
  },
  {
   "cell_type": "markdown",
   "metadata": {},
   "source": [
    "## Load Repository Data\n",
    "\n",
    "First, we need to load the FAQ data from the GitHub repository."
   ]
  },
  {
   "cell_type": "code",
   "execution_count": 2,
   "metadata": {},
   "outputs": [],
   "source": [
    "import io\n",
    "import zipfile\n",
    "import requests\n",
    "import frontmatter\n",
    "\n",
    "def read_repo_data(repo_owner, repo_name):\n",
    "    \"\"\"\n",
    "    Download and parse all markdown files from a GitHub repository.\n",
    "    \n",
    "    Args:\n",
    "        repo_owner: GitHub username or organization\n",
    "        repo_name: Repository name\n",
    "    \n",
    "    Returns:\n",
    "        List of dictionaries containing file content and metadata\n",
    "    \"\"\"\n",
    "    prefix = 'https://codeload.github.com' \n",
    "    url = f'{prefix}/{repo_owner}/{repo_name}/zip/refs/heads/main'\n",
    "    resp = requests.get(url)\n",
    "    \n",
    "    if resp.status_code != 200:\n",
    "        raise Exception(f\"Failed to download repository: {resp.status_code}\")\n",
    "\n",
    "    repository_data = []\n",
    "    zf = zipfile.ZipFile(io.BytesIO(resp.content))\n",
    "    \n",
    "    for file_info in zf.infolist():\n",
    "        filename = file_info.filename\n",
    "        filename_lower = filename.lower()\n",
    "\n",
    "        if not (filename_lower.endswith('.md') or filename_lower.endswith('.mdx')):\n",
    "            continue\n",
    "    \n",
    "        try:\n",
    "            with zf.open(file_info) as f_in:\n",
    "                content = f_in.read().decode('utf-8', errors='ignore')\n",
    "                post = frontmatter.loads(content)\n",
    "                data = post.to_dict()\n",
    "                data['filename'] = filename\n",
    "                repository_data.append(data)\n",
    "        except Exception as e:\n",
    "            print(f\"Error processing {filename}: {e}\")\n",
    "            continue\n",
    "    \n",
    "    zf.close()\n",
    "    return repository_data"
   ]
  },
  {
   "cell_type": "code",
   "execution_count": 3,
   "metadata": {},
   "outputs": [
    {
     "name": "stdout",
     "output_type": "stream",
     "text": [
      "Loaded 449 data engineering FAQ documents\n"
     ]
    }
   ],
   "source": [
    "# Load FAQ data\n",
    "dtc_faq = read_repo_data('DataTalksClub', 'faq')\n",
    "de_dtc_faq = [d for d in dtc_faq if 'data-engineering' in d['filename']]\n",
    "\n",
    "print(f\"Loaded {len(de_dtc_faq)} data engineering FAQ documents\")"
   ]
  },
  {
   "cell_type": "markdown",
   "metadata": {},
   "source": [
    "## Question Generation\n",
    "\n",
    "We'll use an LLM to generate realistic questions based on FAQ content."
   ]
  },
  {
   "cell_type": "code",
   "execution_count": 4,
   "metadata": {},
   "outputs": [],
   "source": [
    "# Define the output schema for questions\n",
    "class QuestionsList(BaseModel):\n",
    "    questions: list[str]\n",
    "\n",
    "# Define the question generation prompt\n",
    "question_generation_prompt = \"\"\"\n",
    "You are helping to create test questions for an AI agent that answers questions about a data engineering course.\n",
    "\n",
    "Based on the provided FAQ content, generate realistic questions that students might ask.\n",
    "\n",
    "The questions should:\n",
    "- Be natural and varied in style\n",
    "- Range from simple to complex\n",
    "- Include both specific technical questions and general course questions\n",
    "\n",
    "Generate one question for each record.\n",
    "\"\"\".strip()\n",
    "\n",
    "# Create the question generator agent\n",
    "question_generator = Agent(\n",
    "    name=\"question_generator\",\n",
    "    instructions=question_generation_prompt,\n",
    "    model='gpt-4o-mini',\n",
    "    output_type=QuestionsList\n",
    ")"
   ]
  },
  {
   "cell_type": "code",
   "execution_count": 5,
   "metadata": {},
   "outputs": [
    {
     "name": "stdout",
     "output_type": "stream",
     "text": [
      "Generated 10 questions:\n",
      "1. How can I fix the Docker error related to configuration settings?\n",
      "2. Can I partition more than one column in BigQuery tables?\n",
      "3. What mounting path should I use for PostgreSQL in Docker?\n",
      "4. Where should I place my SSH config file in my file system?\n",
      "5. How do I configure the Spark BigQuery connector automatically?\n",
      "6. What data types should be used to avoid schema inconsistency issues in BigQuery?\n",
      "7. What should I do if my data loading process is too slow when using a script for yellow taxi data?\n",
      "8. How do I install Java and Spark using SDKMAN for my project?\n",
      "9. What Python version is compatible with Spark 3.0.3 to avoid inconsistencies?\n",
      "10. Can I create an external table in BigQuery using Parquet files stored in a GCP Bucket?\n"
     ]
    }
   ],
   "source": [
    "# Sample documents and generate questions\n",
    "num_samples = 10\n",
    "sample = random.sample(de_dtc_faq, num_samples)\n",
    "prompt_docs = [d['content'] for d in sample]\n",
    "prompt = json.dumps(prompt_docs)\n",
    "\n",
    "result = await question_generator.run(prompt)\n",
    "questions = result.output.questions\n",
    "\n",
    "print(f\"Generated {len(questions)} questions:\")\n",
    "for i, q in enumerate(questions, 1):\n",
    "    print(f\"{i}. {q}\")"
   ]
  },
  {
   "cell_type": "markdown",
   "metadata": {},
   "source": [
    "## Generate Test Data with Agent\n",
    "\n",
    "Now we'll run the agent on these questions and log the interactions."
   ]
  },
  {
   "cell_type": "code",
   "execution_count": 6,
   "metadata": {},
   "outputs": [
    {
     "name": "stdout",
     "output_type": "stream",
     "text": [
      "Agent initialized and ready\n"
     ]
    }
   ],
   "source": [
    "# Import the agent and logging functionality\n",
    "import sys\n",
    "sys.path.append('../aihero/course')\n",
    "\n",
    "from search_agent import init_agent\n",
    "from search_tools import SearchTool\n",
    "from logs import log_interaction_to_file\n",
    "from minsearch import Index\n",
    "\n",
    "# Initialize the search index\n",
    "faq_index = Index(\n",
    "    text_fields=[\"question\", \"content\"],\n",
    "    keyword_fields=[]\n",
    ")\n",
    "faq_index.fit(de_dtc_faq)\n",
    "\n",
    "# Initialize the agent\n",
    "agent = init_agent(\n",
    "    index=faq_index,\n",
    "    repo_owner='DataTalksClub',\n",
    "    repo_name='faq'\n",
    ")\n",
    "\n",
    "print(\"Agent initialized and ready\")"
   ]
  },
  {
   "cell_type": "code",
   "execution_count": 7,
   "metadata": {},
   "outputs": [
    {
     "data": {
      "application/vnd.jupyter.widget-view+json": {
       "model_id": "772f03be571a41c7a6528755f8b1bbbb",
       "version_major": 2,
       "version_minor": 0
      },
      "text/plain": [
       "Generating test data:   0%|          | 0/10 [00:00<?, ?it/s]"
      ]
     },
     "metadata": {},
     "output_type": "display_data"
    },
    {
     "name": "stdout",
     "output_type": "stream",
     "text": [
      "\n",
      "Question: How can I fix the Docker error related to configuration settings?\n",
      "Answer: To fix Docker errors related to configuration settings, here are some common issues and their solutions based on your platform:\n",
      "\n",
      "1. **Docker Won't Start on Windows (10/11)**:\n",
      "   - Ensure that you are ...\n",
      "Logged to: logs/gh_agent_20251012_053857_86df26.json\n",
      "\n",
      "Question: Can I partition more than one column in BigQuery tables?\n",
      "Answer: No, BigQuery does not support partitioning on more than one column. You can only partition a table based on one column at a time according to the official documentation.\n",
      "\n",
      "For more details, you can ref...\n",
      "Logged to: logs/gh_agent_20251012_053909_298bad.json\n",
      "\n",
      "Question: What mounting path should I use for PostgreSQL in Docker?\n",
      "Answer: When using PostgreSQL in Docker, you can use the following mount path for your database storage:\n",
      "\n",
      "1. On Windows, it's recommended to use one of the following options for your volume mapping:\n",
      "   ```bas...\n",
      "Logged to: logs/gh_agent_20251012_053913_c60060.json\n",
      "\n",
      "Question: Where should I place my SSH config file in my file system?\n",
      "Answer: Your SSH config file should be placed in the `.ssh` directory in your home folder. The locations can vary depending on your operating system:\n",
      "\n",
      "- **On Windows:** The config file should be located at `C...\n",
      "Logged to: logs/gh_agent_20251012_053926_e5e7bf.json\n",
      "\n",
      "Question: How do I configure the Spark BigQuery connector automatically?\n",
      "Answer: To automatically configure the Spark BigQuery connector, you can create a `SparkSession` with the following Python code:\n",
      "\n",
      "```python\n",
      "spark = SparkSession.builder \\\n",
      "    .master('local') \\\n",
      "    .appName('...\n",
      "Logged to: logs/gh_agent_20251012_053935_d3547e.json\n",
      "\n",
      "Question: What data types should be used to avoid schema inconsistency issues in BigQuery?\n",
      "Answer: To avoid schema inconsistency issues in BigQuery, you should consider the following guidelines regarding data types:\n",
      "\n",
      "1. **Consistent Data Types:** Ensure that the data types of your columns in BigQue...\n",
      "Logged to: logs/gh_agent_20251012_053942_8fa6b7.json\n",
      "\n",
      "Question: What should I do if my data loading process is too slow when using a script for yellow taxi data?\n",
      "Answer: If your data loading process for yellow taxi data is too slow, here are some steps you can follow to improve efficiency:\n",
      "\n",
      "1. **Use Parquet Files**: Instead of downloading CSV files, consider downloadi...\n",
      "Logged to: logs/gh_agent_20251012_053953_d9cc34.json\n",
      "\n",
      "Question: How do I install Java and Spark using SDKMAN for my project?\n",
      "Answer: To install Java and Spark using SDKMAN for your project, follow the steps outlined below:\n",
      "\n",
      "1. **Install SDKMAN**:\n",
      "   Run the following commands in your terminal to install SDKMAN:\n",
      "   ```bash\n",
      "   curl -...\n",
      "Logged to: logs/gh_agent_20251012_054004_9cff77.json\n",
      "\n",
      "Question: What Python version is compatible with Spark 3.0.3 to avoid inconsistencies?\n",
      "Answer: For Spark version 3.0.3, the recommended Python version to avoid inconsistencies is Python 3.9. Using Python 3.11 with Spark 3.0.3 can lead to errors, such as `TypeError`, due to compatibility issues....\n",
      "Logged to: logs/gh_agent_20251012_054013_03188f.json\n",
      "\n",
      "Question: Can I create an external table in BigQuery using Parquet files stored in a GCP Bucket?\n",
      "Answer: Yes, you can create an external table in BigQuery using Parquet files stored in a Google Cloud Storage (GCS) bucket. Here’s how to do it:\n",
      "\n",
      "1. **Using SQL**: You can execute a SQL command to create the...\n",
      "Logged to: logs/gh_agent_20251012_054020_b6a8aa.json\n",
      "\n",
      "Generated 10 test interactions\n"
     ]
    }
   ],
   "source": [
    "# Run the agent on each question and log results\n",
    "from tqdm.auto import tqdm\n",
    "\n",
    "generated_logs = []\n",
    "\n",
    "for q in tqdm(questions, desc=\"Generating test data\"):\n",
    "    print(f\"\\nQuestion: {q}\")\n",
    "    \n",
    "    result = await agent.run(user_prompt=q)\n",
    "    print(f\"Answer: {result.output[:200]}...\")\n",
    "    \n",
    "    log_file = log_interaction_to_file(\n",
    "        agent,\n",
    "        result.new_messages(),\n",
    "        source='ai-generated'\n",
    "    )\n",
    "    \n",
    "    generated_logs.append(str(log_file))\n",
    "    print(f\"Logged to: {log_file}\")\n",
    "\n",
    "print(f\"\\nGenerated {len(generated_logs)} test interactions\")"
   ]
  },
  {
   "cell_type": "markdown",
   "metadata": {},
   "source": [
    "## Save Generated Questions\n",
    "\n",
    "Save the generated questions and their corresponding log files for later evaluation."
   ]
  },
  {
   "cell_type": "code",
   "execution_count": 8,
   "metadata": {},
   "outputs": [
    {
     "name": "stdout",
     "output_type": "stream",
     "text": [
      "Saved test data metadata to ../logs/generated_test_data.json\n"
     ]
    }
   ],
   "source": [
    "from datetime import datetime\n",
    "\n",
    "# Save questions and log file paths\n",
    "output_data = {\n",
    "    \"questions\": questions,\n",
    "    \"log_files\": generated_logs,\n",
    "    \"num_samples\": num_samples,\n",
    "    \"generated_at\": datetime.now().isoformat()\n",
    "}\n",
    "\n",
    "output_path = Path('../logs/generated_test_data.json')\n",
    "with output_path.open('w') as f:\n",
    "    json.dump(output_data, f, indent=2)\n",
    "\n",
    "print(f\"Saved test data metadata to {output_path}\")"
   ]
  }
 ],
 "metadata": {
  "kernelspec": {
   "display_name": ".venv",
   "language": "python",
   "name": "python3"
  },
  "language_info": {
   "codemirror_mode": {
    "name": "ipython",
    "version": 3
   },
   "file_extension": ".py",
   "mimetype": "text/x-python",
   "name": "python",
   "nbconvert_exporter": "python",
   "pygments_lexer": "ipython3",
   "version": "3.13.3"
  }
 },
 "nbformat": 4,
 "nbformat_minor": 4
}
